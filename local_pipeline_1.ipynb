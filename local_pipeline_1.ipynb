{
 "cells": [
  {
   "cell_type": "code",
   "execution_count": 2,
   "metadata": {},
   "outputs": [],
   "source": [
    "# Memanggil berbagai library dan variabel yang dibutuhkan\n",
    "import os\n",
    "import sys\n",
    "from typing import Text\n",
    "from absl import logging\n",
    "from tfx.orchestration import metadata, pipeline\n",
    "from tfx.orchestration.beam.beam_dag_runner import BeamDagRunner"
   ]
  },
  {
   "cell_type": "code",
   "execution_count": 3,
   "metadata": {},
   "outputs": [],
   "source": [
    "# Nama pipeline\n",
    "PIPELINE_NAME = \"patient-stress-pipeline\"\n",
    "\n",
    "# Pipeline inputs\n",
    "DATA_ROOT = \"data\"  # Folder tempat data input berada\n",
    "TRANSFORM_MODULE_FILE = \"modules/patient_stress_transform.py\"  # Transform module\n",
    "TRAINER_MODULE_FILE = \"modules/patient_stress_trainer.py\"  # Trainer module\n",
    "\n",
    "# Pipeline outputs\n",
    "OUTPUT_BASE = \"output\"  # Root folder untuk output pipeline\n",
    "SERVING_MODEL_DIR = os.path.join(OUTPUT_BASE, \"serving_model\")\n",
    "PIPELINE_ROOT = os.path.join(OUTPUT_BASE, PIPELINE_NAME)\n",
    "METADATA_PATH = os.path.join(PIPELINE_ROOT, \"metadata.sqlite\")\n"
   ]
  },
  {
   "cell_type": "code",
   "execution_count": 4,
   "metadata": {},
   "outputs": [],
   "source": [
    "# Fungsi untuk membuat TFX pipeline\n",
    "def init_local_pipeline(components, pipeline_root: Text) -> pipeline.Pipeline:\n",
    "    \"\"\"\n",
    "    Fungsi untuk inisialisasi TFX pipeline.\n",
    "    Args:\n",
    "        components: List komponen TFX yang akan digunakan dalam pipeline.\n",
    "        pipeline_root: Lokasi output dari pipeline.\n",
    "    Returns:\n",
    "        pipeline: Objek pipeline yang akan dijalankan.\n",
    "    \"\"\"\n",
    "    logging.info(f\"Pipeline root set to: {pipeline_root}\")\n",
    "    \n",
    "    # Apache Beam arguments\n",
    "    beam_args = [\n",
    "        \"--direct_running_mode=multi_processing\",  # Mode eksekusi menggunakan multiprocessing\n",
    "        \"--direct_num_workers=0\"  # 0 berarti auto-detect jumlah CPU yang tersedia\n",
    "    ]\n",
    "    \n",
    "    return pipeline.Pipeline(\n",
    "        pipeline_name=PIPELINE_NAME,\n",
    "        pipeline_root=pipeline_root,\n",
    "        components=components,\n",
    "        enable_cache=True,  # Menggunakan caching untuk menghemat waktu\n",
    "        metadata_connection_config=metadata.sqlite_metadata_connection_config(\n",
    "            METADATA_PATH\n",
    "        ),\n",
    "        beam_pipeline_args=beam_args,  # Argumen untuk Apache Beam\n",
    "    )"
   ]
  },
  {
   "cell_type": "code",
   "execution_count": 7,
   "metadata": {},
   "outputs": [
    {
     "ename": "ImportError",
     "evalue": "cannot import name 'init_components' from 'modules.components' (e:\\G-Drive\\Catatan Kerja\\Pelatihan\\DICODING\\MLOPS\\dicoding-mlops-sub-2\\modules\\components.py)",
     "output_type": "error",
     "traceback": [
      "\u001b[1;31m---------------------------------------------------------------------------\u001b[0m",
      "\u001b[1;31mImportError\u001b[0m                               Traceback (most recent call last)",
      "\u001b[1;32m~\\AppData\\Local\\Temp\\ipykernel_13712\\3525338126.py\u001b[0m in \u001b[0;36m<cell line: 3>\u001b[1;34m()\u001b[0m\n\u001b[0;32m      4\u001b[0m     \u001b[0mlogging\u001b[0m\u001b[1;33m.\u001b[0m\u001b[0mset_verbosity\u001b[0m\u001b[1;33m(\u001b[0m\u001b[0mlogging\u001b[0m\u001b[1;33m.\u001b[0m\u001b[0mINFO\u001b[0m\u001b[1;33m)\u001b[0m\u001b[1;33m\u001b[0m\u001b[1;33m\u001b[0m\u001b[0m\n\u001b[0;32m      5\u001b[0m \u001b[1;33m\u001b[0m\u001b[0m\n\u001b[1;32m----> 6\u001b[1;33m     \u001b[1;32mfrom\u001b[0m \u001b[0mmodules\u001b[0m\u001b[1;33m.\u001b[0m\u001b[0mcomponents\u001b[0m \u001b[1;32mimport\u001b[0m \u001b[0minit_components\u001b[0m\u001b[1;33m\u001b[0m\u001b[1;33m\u001b[0m\u001b[0m\n\u001b[0m\u001b[0;32m      7\u001b[0m \u001b[1;33m\u001b[0m\u001b[0m\n\u001b[0;32m      8\u001b[0m     components = init_components(\n",
      "\u001b[1;31mImportError\u001b[0m: cannot import name 'init_components' from 'modules.components' (e:\\G-Drive\\Catatan Kerja\\Pelatihan\\DICODING\\MLOPS\\dicoding-mlops-sub-2\\modules\\components.py)"
     ]
    }
   ],
   "source": [
    "# menjalankan pipeline\n",
    "# membuat sebuah TFX component menggunakan fungsi init_components(). Selanjutnya, seluruh komponen tersebut disatukan menjadi sebuah machine learning pipeline dengan bantuan fungsi init_local_pipeline(). Pada bagian terakhir, pipeline tersebut dijalankan menggunakan Apache Beam sebagai pipeline orchestrator.\n",
    "if __name__ == \"__main__\":\n",
    "    logging.set_verbosity(logging.INFO)\n",
    "    \n",
    "    from modules.components import init_components\n",
    "    \n",
    "    components = init_components(\n",
    "        DATA_ROOT,\n",
    "        training_module=TRAINER_MODULE_FILE,\n",
    "        transform_module=TRANSFORM_MODULE_FILE,\n",
    "        training_steps=5000,\n",
    "        eval_steps=1000,\n",
    "        serving_model_dir=serving_model_dir,\n",
    "    )\n",
    "    \n",
    "    pipeline = init_local_pipeline(components, pipeline_root)\n",
    "    BeamDagRunner().run(pipeline=pipeline)\n"
   ]
  }
 ],
 "metadata": {
  "kernelspec": {
   "display_name": "Python 3",
   "language": "python",
   "name": "python3"
  },
  "language_info": {
   "codemirror_mode": {
    "name": "ipython",
    "version": 3
   },
   "file_extension": ".py",
   "mimetype": "text/x-python",
   "name": "python",
   "nbconvert_exporter": "python",
   "pygments_lexer": "ipython3",
   "version": "3.10.16"
  }
 },
 "nbformat": 4,
 "nbformat_minor": 2
}
